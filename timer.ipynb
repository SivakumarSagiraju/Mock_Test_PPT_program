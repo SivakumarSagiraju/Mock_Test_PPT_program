{
 "cells": [
  {
   "cell_type": "code",
   "execution_count": 2,
   "metadata": {},
   "outputs": [
    {
     "name": "stdout",
     "output_type": "stream",
     "text": [
      "Execution time:2.1118s\n"
     ]
    }
   ],
   "source": [
    "import time\n",
    "def timer(func):\n",
    "    def wraper_func(*args,**kwargs):\n",
    "        t1=time.time()\n",
    "        result = func(*args,**kwargs)\n",
    "        t2=time.time()\n",
    "        print(f'Execution time:{(t2-t1):.4f}s')\n",
    "        return result\n",
    "    return wraper_func\n",
    "\n",
    "@timer\n",
    "def my_function(n):\n",
    "    for i in range(1,n+1):\n",
    "            for j in range(100000):\n",
    "                 i*j\n",
    "    time.sleep(2)\n",
    "\n",
    "my_function(5)\n",
    "\n",
    "\n"
   ]
  },
  {
   "cell_type": "code",
   "execution_count": null,
   "metadata": {},
   "outputs": [],
   "source": []
  }
 ],
 "metadata": {
  "kernelspec": {
   "display_name": "base",
   "language": "python",
   "name": "python3"
  },
  "language_info": {
   "codemirror_mode": {
    "name": "ipython",
    "version": 3
   },
   "file_extension": ".py",
   "mimetype": "text/x-python",
   "name": "python",
   "nbconvert_exporter": "python",
   "pygments_lexer": "ipython3",
   "version": "3.9.12"
  },
  "orig_nbformat": 4
 },
 "nbformat": 4,
 "nbformat_minor": 2
}
