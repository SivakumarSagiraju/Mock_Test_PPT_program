{
 "cells": [
  {
   "cell_type": "code",
   "execution_count": 6,
   "metadata": {},
   "outputs": [
    {
     "name": "stdout",
     "output_type": "stream",
     "text": [
      "P_Value: 0.10753119493062718\n"
     ]
    }
   ],
   "source": [
    "from scipy import stats\n",
    "from statistics import variance\n",
    "\n",
    "def perform_hypothesis_test(sample1, sample2):\n",
    "    v1= statistics.variance(sample1)\n",
    "    v2= statistics.variance(sample2)\n",
    "    if(v1==v2):\n",
    "            t_statistic, p_value = stats.ttest_ind(sample1, sample2,equal_var=True)\n",
    "    else:\n",
    "          t_statistic, p_value = stats.ttest_ind(sample1, sample2,equal_var=False)  \n",
    "    return p_value\n",
    "\n",
    "sample1 = [5, 10, 15, 20, 25]\n",
    "sample2 = [10, 20, 30, 40, 50]\n",
    "p_value = perform_hypothesis_test(sample1, sample2)\n",
    "print(\"P_Value:\",p_value)"
   ]
  }
 ],
 "metadata": {
  "kernelspec": {
   "display_name": "base",
   "language": "python",
   "name": "python3"
  },
  "language_info": {
   "codemirror_mode": {
    "name": "ipython",
    "version": 3
   },
   "file_extension": ".py",
   "mimetype": "text/x-python",
   "name": "python",
   "nbconvert_exporter": "python",
   "pygments_lexer": "ipython3",
   "version": "3.9.12"
  },
  "orig_nbformat": 4
 },
 "nbformat": 4,
 "nbformat_minor": 2
}
