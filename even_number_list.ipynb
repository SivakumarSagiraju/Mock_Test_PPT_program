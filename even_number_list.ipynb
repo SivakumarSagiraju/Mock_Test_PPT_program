{
 "cells": [
  {
   "cell_type": "code",
   "execution_count": 3,
   "metadata": {},
   "outputs": [
    {
     "name": "stdout",
     "output_type": "stream",
     "text": [
      "[2, 4, 6, 8, 10]\n",
      "[2, 4, 8, 10, 12, 14]\n"
     ]
    }
   ],
   "source": [
    "def even_num_list(input_list):\n",
    "    even_list=[]\n",
    "    for i in input_list:\n",
    "        if(i%2==0):\n",
    "            even_list.append(i)\n",
    "    return even_list\n",
    "\n",
    "\n",
    "try:\n",
    "      input_list=[1,2,3,4,5,6,7,8,9,10]\n",
    "      even_list = even_num_list(input_list)\n",
    "      print(even_list)\n",
    "      #Test_cases\n",
    "      input_list = list(map(int,input().split(',')))\n",
    "      even_list = even_num_list(input_list)\n",
    "      print(even_list)\n",
    "except ValueError:\n",
    "     print('Invalid integer passed to the input_list')\n",
    "except Exception as e:\n",
    "     print('Error occured',e)\n",
    "\n",
    "\n"
   ]
  }
 ],
 "metadata": {
  "kernelspec": {
   "display_name": "base",
   "language": "python",
   "name": "python3"
  },
  "language_info": {
   "codemirror_mode": {
    "name": "ipython",
    "version": 3
   },
   "file_extension": ".py",
   "mimetype": "text/x-python",
   "name": "python",
   "nbconvert_exporter": "python",
   "pygments_lexer": "ipython3",
   "version": "3.9.12"
  },
  "orig_nbformat": 4
 },
 "nbformat": 4,
 "nbformat_minor": 2
}
