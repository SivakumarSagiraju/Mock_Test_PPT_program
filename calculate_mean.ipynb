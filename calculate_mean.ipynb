{
 "cells": [
  {
   "cell_type": "code",
   "execution_count": 7,
   "metadata": {},
   "outputs": [
    {
     "name": "stdout",
     "output_type": "stream",
     "text": [
      "Mean: 20.0\n",
      "Mean: 4.5\n"
     ]
    }
   ],
   "source": [
    "def calculate_mean(input_numbers):\n",
    "    total = sum(input_numbers)\n",
    "    count = len(input_numbers)\n",
    "    mean = total/count\n",
    "    return mean\n",
    "try:\n",
    "      input_numbers = [10,15,20,25,30]\n",
    "      mean_value = calculate_mean(input_numbers)\n",
    "      print(\"Mean:\",mean_value)\n",
    "      #Test case\n",
    "      input_numbers = list(map(int,input().split(',')))\n",
    "      mean_value = calculate_mean(input_numbers)\n",
    "      print(\"Mean:\",mean_value)\n",
    "except ValueError:\n",
    "     print('Invalid integer passed to the input_numbers list')\n",
    "except ZeroDivisionError:\n",
    "     print(\"Length of the input_numbers is zero\")\n",
    "except Exception as e:\n",
    "     print('Error occured',e)\n",
    "\n"
   ]
  },
  {
   "cell_type": "code",
   "execution_count": null,
   "metadata": {},
   "outputs": [],
   "source": []
  }
 ],
 "metadata": {
  "kernelspec": {
   "display_name": "base",
   "language": "python",
   "name": "python3"
  },
  "language_info": {
   "codemirror_mode": {
    "name": "ipython",
    "version": 3
   },
   "file_extension": ".py",
   "mimetype": "text/x-python",
   "name": "python",
   "nbconvert_exporter": "python",
   "pygments_lexer": "ipython3",
   "version": "3.9.12"
  },
  "orig_nbformat": 4
 },
 "nbformat": 4,
 "nbformat_minor": 2
}
